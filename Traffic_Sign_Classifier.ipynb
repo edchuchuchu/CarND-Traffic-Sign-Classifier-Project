{
 "cells": [
  {
   "cell_type": "markdown",
   "metadata": {},
   "source": [
    "# Self-Driving Car Engineer Nanodegree\n",
    "\n",
    "## Deep Learning\n",
    "\n",
    "## Project: Build a Traffic Sign Recognition Classifier\n",
    "\n",
    "In this notebook, a template is provided for you to implement your functionality in stages, which is required to successfully complete this project. If additional code is required that cannot be included in the notebook, be sure that the Python code is successfully imported and included in your submission if necessary. \n",
    "\n",
    "> **Note**: Once you have completed all of the code implementations, you need to finalize your work by exporting the iPython Notebook as an HTML document. Before exporting the notebook to html, all of the code cells need to have been run so that reviewers can see the final implementation and output. You can then export the notebook by using the menu above and navigating to  \\n\",\n",
    "    \"**File -> Download as -> HTML (.html)**. Include the finished document along with this notebook as your submission. \n",
    "\n",
    "In addition to implementing code, there is a writeup to complete. The writeup should be completed in a separate file, which can be either a markdown file or a pdf document. There is a [write up template](https://github.com/udacity/CarND-Traffic-Sign-Classifier-Project/blob/master/writeup_template.md) that can be used to guide the writing process. Completing the code template and writeup template will cover all of the [rubric points](https://review.udacity.com/#!/rubrics/481/view) for this project.\n",
    "\n",
    "The [rubric](https://review.udacity.com/#!/rubrics/481/view) contains \"Stand Out Suggestions\" for enhancing the project beyond the minimum requirements. The stand out suggestions are optional. If you decide to pursue the \"stand out suggestions\", you can include the code in this Ipython notebook and also discuss the results in the writeup file.\n",
    "\n",
    "\n",
    ">**Note:** Code and Markdown cells can be executed using the **Shift + Enter** keyboard shortcut. In addition, Markdown cells can be edited by typically double-clicking the cell to enter edit mode."
   ]
  },
  {
   "cell_type": "markdown",
   "metadata": {},
   "source": [
    "---\n",
    "## Step 0: Load The Data"
   ]
  },
  {
   "cell_type": "code",
   "execution_count": 29,
   "metadata": {
    "collapsed": false
   },
   "outputs": [],
   "source": [
    "# Load pickled data\n",
    "import pickle\n",
    "import matplotlib.pyplot as plt\n",
    "import random\n",
    "from sklearn.utils import shuffle\n",
    "import numpy as np\n",
    "import cv2\n",
    "import tensorflow as tf\n",
    "from tensorflow.contrib.layers import flatten\n",
    "import os\n",
    "import matplotlib.image as mpimg\n",
    "\n",
    "training_file = '../traffic-signs-data/train.p'\n",
    "validation_file= '../traffic-signs-data/valid.p'\n",
    "testing_file = '../traffic-signs-data/test.p'\n",
    "\n",
    "with open(training_file, mode='rb') as f:\n",
    "    train = pickle.load(f)\n",
    "with open(validation_file, mode='rb') as f:\n",
    "    valid = pickle.load(f)\n",
    "with open(testing_file, mode='rb') as f:\n",
    "    test = pickle.load(f)\n",
    "    \n",
    "X_train, y_train = train['features'], train['labels']\n",
    "X_valid, y_valid = valid['features'], valid['labels']\n",
    "X_test, y_test = test['features'], test['labels']"
   ]
  },
  {
   "cell_type": "markdown",
   "metadata": {},
   "source": [
    "---\n",
    "\n",
    "## Step 1: Dataset Summary & Exploration\n",
    "\n",
    "The pickled data is a dictionary with 4 key/value pairs:\n",
    "\n",
    "- `'features'` is a 4D array containing raw pixel data of the traffic sign images, (num examples, width, height, channels).\n",
    "- `'labels'` is a 1D array containing the label/class id of the traffic sign. The file `signnames.csv` contains id -> name mappings for each id.\n",
    "- `'sizes'` is a list containing tuples, (width, height) representing the the original width and height the image.\n",
    "- `'coords'` is a list containing tuples, (x1, y1, x2, y2) representing coordinates of a bounding box around the sign in the image. **THESE COORDINATES ASSUME THE ORIGINAL IMAGE. THE PICKLED DATA CONTAINS RESIZED VERSIONS (32 by 32) OF THESE IMAGES**\n",
    "\n",
    "Complete the basic data summary below. Use python, numpy and/or pandas methods to calculate the data summary rather than hard coding the results. For example, the [pandas shape method](http://pandas.pydata.org/pandas-docs/stable/generated/pandas.DataFrame.shape.html) might be useful for calculating some of the summary results. "
   ]
  },
  {
   "cell_type": "markdown",
   "metadata": {},
   "source": [
    "### Provide a Basic Summary of the Data Set Using Python, Numpy and/or Pandas"
   ]
  },
  {
   "cell_type": "code",
   "execution_count": 30,
   "metadata": {
    "collapsed": false
   },
   "outputs": [
    {
     "name": "stdout",
     "output_type": "stream",
     "text": [
      "Number of training examples = 34799\n",
      "Number of validation examples = 4410\n",
      "Number of testing examples = 12630\n",
      "Image data shape = (32, 32, 3)\n",
      "Number of classes = 43\n"
     ]
    }
   ],
   "source": [
    "### Replace each question mark with the appropriate value. \n",
    "### Use python, pandas or numpy methods rather than hard coding the results\n",
    "n_train = len(X_train)\n",
    "n_valid = len(X_valid)\n",
    "n_test = len(X_test)\n",
    "image_shape = X_train[0].shape\n",
    "n_classes = len(set(y_train))\n",
    "\n",
    "print(\"Number of training examples =\", n_train)\n",
    "print(\"Number of validation examples =\", n_valid)\n",
    "print(\"Number of testing examples =\", n_test)\n",
    "print(\"Image data shape =\", image_shape)\n",
    "print(\"Number of classes =\", n_classes)"
   ]
  },
  {
   "cell_type": "markdown",
   "metadata": {},
   "source": [
    "### Q1. Provide a basic summary of the data set and identify where in your code the summary was done. In the code, the analysis should be done using python, numpy and/or pandas methods rather than hardcoding results manually.\n",
    "\n",
    "### Answer:\n",
    "Please see the code above.  \n",
    "\n",
    "I used the python build-in funcation len and Numpy function shape to calculate summary statistics of the traffic signs data set:\n",
    "\n",
    "* The size of training set is 34799\n",
    "* The size of test set is 12630\n",
    "* The shape of a traffic sign image is 32*32*3\n",
    "* The number of unique classes/labels in the data set is 42"
   ]
  },
  {
   "cell_type": "markdown",
   "metadata": {},
   "source": [
    "### Include an exploratory visualization of the dataset"
   ]
  },
  {
   "cell_type": "markdown",
   "metadata": {},
   "source": [
    "Visualize the German Traffic Signs Dataset using the pickled file(s). This is open ended, suggestions include: plotting traffic sign images, plotting the count of each sign, etc.\n",
    "\n",
    "The [Matplotlib](http://matplotlib.org/) [examples](http://matplotlib.org/examples/index.html) and [gallery](http://matplotlib.org/gallery.html) pages are a great resource for doing visualizations in Python.\n",
    "\n",
    "**NOTE:** It's recommended you start with something simple first. If you wish to do more, come back to it after you've completed the rest of the sections."
   ]
  },
  {
   "cell_type": "code",
   "execution_count": 31,
   "metadata": {
    "collapsed": false
   },
   "outputs": [
    {
     "data": {
      "image/png": "[encoded data removed]",
      "text/plain": [
       "<matplotlib.figure.Figure at 0xc9c8a58>"
      ]
     },
     "metadata": {},
     "output_type": "display_data"
    },
    {
     "data": {
      "image/png": "[encoded data removed]",
      "text/plain": [
       "<matplotlib.figure.Figure at 0xd7c58d0>"
      ]
     },
     "metadata": {},
     "output_type": "display_data"
    },
    {
     "data": {
      "image/png": "[encoded data removed]",
      "text/plain": [
       "<matplotlib.figure.Figure at 0xd7c5668>"
      ]
     },
     "metadata": {},
     "output_type": "display_data"
    },
    {
     "data": {
      "image/png": "[encoded data removed]",
      "text/plain": [
       "<matplotlib.figure.Figure at 0xd6e8550>"
      ]
     },
     "metadata": {},
     "output_type": "display_data"
    }
   ],
   "source": [
    "### Data exploration visualization code goes here.\n",
    "\n",
    "# Visualizations will be shown in the notebook.\n",
    "%matplotlib inline\n",
    "\n",
    "#plotting traffic sign images\n",
    "fig = plt.figure(figsize=(25,25))\n",
    "for i in range(1,11):\n",
    "    fig.add_subplot(1, 10, i) \n",
    "    index = random.randint(0, len(X_train))\n",
    "    image = X_train[index].squeeze()\n",
    "    plt.imshow(image)\n",
    "    plt.title(y_train[index])\n",
    "plt.show()\n",
    "#plotting the count of each sign\n",
    "#fig = plt.figure()\n",
    "def plot_hist(y,n,title):\n",
    "    plt.title(title)\n",
    "    plt.xlabel(\"Sign class\")\n",
    "    plt.ylabel(\"count\")\n",
    "    plt.hist(y, n)\n",
    "    plt.show()\n",
    "plot_hist(y_train, n_classes, \"the count of each sign of training dataset \")    \n",
    "plot_hist(y_valid, n_classes, \"the count of each sign of validation dataset \")   \n",
    "plot_hist(y_test, n_classes, \"the count of each sign of test dataset \")\n"
   ]
  },
  {
   "cell_type": "markdown",
   "metadata": {},
   "source": [
    "### Q2. Include an exploratory visualization of the dataset and identify where the code is in your code file.\n",
    "\n",
    "### Answer:\n",
    "See the code above, it displays 10 different traffic sign by random choosing.\n",
    "And use histogram in matplotlib to plotting the count of each sign.\n",
    "It shows there are 42 different class and some of the class appear 2,000 times.\n",
    "We can also find out some class sample is lesser than other class in training dataset.\n",
    "It may make the model difficult to predict these classed in the future."
   ]
  },
  {
   "cell_type": "markdown",
   "metadata": {},
   "source": [
    "----\n",
    "\n",
    "## Step 2: Design and Test a Model Architecture\n",
    "\n",
    "Design and implement a deep learning model that learns to recognize traffic signs. Train and test your model on the [German Traffic Sign Dataset](http://benchmark.ini.rub.de/?section=gtsrb&subsection=dataset).\n",
    "\n",
    "There are various aspects to consider when thinking about this problem:\n",
    "\n",
    "- Neural network architecture\n",
    "- Play around preprocessing techniques (normalization, rgb to grayscale, etc)\n",
    "- Number of examples per label (some have more than others).\n",
    "- Generate fake data.\n",
    "\n",
    "Here is an example of a [published baseline model on this problem](http://yann.lecun.com/exdb/publis/pdf/sermanet-ijcnn-11.pdf). It's not required to be familiar with the approach used in the paper but, it's good practice to try to read papers like these.\n",
    "\n",
    "**NOTE:** The LeNet-5 implementation shown in the [classroom](https://classroom.udacity.com/nanodegrees/nd013/parts/fbf77062-5703-404e-b60c-95b78b2f3f9e/modules/6df7ae49-c61c-4bb2-a23e-6527e69209ec/lessons/601ae704-1035-4287-8b11-e2c2716217ad/concepts/d4aca031-508f-4e0b-b493-e7b706120f81) at the end of the CNN lesson is a solid starting point. You'll have to change the number of classes and possibly the preprocessing, but aside from that it's plug and play!"
   ]
  },
  {
   "cell_type": "markdown",
   "metadata": {},
   "source": [
    "### Pre-process the Data Set (normalization, grayscale, etc.)"
   ]
  },
  {
   "cell_type": "markdown",
   "metadata": {},
   "source": [
    "Use the code cell (or multiple code cells, if necessary) to implement the first step of your project."
   ]
  },
  {
   "cell_type": "code",
   "execution_count": 4,
   "metadata": {
    "collapsed": false
   },
   "outputs": [],
   "source": [
    "### Preprocess the data here. Preprocessing steps could include normalization, converting to grayscale, etc.\n",
    "### Feel free to use as many code cells as needed.\n",
    "\n",
    "### grayscale data\n",
    "def gray_data(data):\n",
    "    return np.array([cv2.cvtColor(img, cv2.COLOR_RGB2GRAY) for img in data])\n",
    "\n",
    "### Normalization data\n",
    "def norm_data(data):\n",
    "    return data/128 -1\n",
    "\n",
    "X_train, y_train = shuffle(X_train, y_train)\n",
    "X_train_org = X_train\n",
    "X_train_norm =  norm_data(X_train_org)\n",
    "X_train_gray = gray_data(X_train_org)\n",
    "\n",
    "X_train = X_train_norm\n",
    "X_valid = norm_data(X_valid)\n",
    "X_test = norm_data(X_test)"
   ]
  },
  {
   "cell_type": "markdown",
   "metadata": {},
   "source": [
    "#### Verified Pre-process data"
   ]
  },
  {
   "cell_type": "code",
   "execution_count": 17,
   "metadata": {
    "collapsed": false
   },
   "outputs": [
    {
     "name": "stdout",
     "output_type": "stream",
     "text": [
      "Plot image of class 17\n"
     ]
    },
    {
     "data": {
      "image/png": "[encoded data removed]",
      "text/plain": [
       "<matplotlib.figure.Figure at 0xcfb83c8>"
      ]
     },
     "metadata": {},
     "output_type": "display_data"
    }
   ],
   "source": [
    "### Plot original data, normalized data, grayscale data\n",
    "def plot_3_Datas(data1, data2, data3, label):\n",
    "    index = random.randint(0, len(X_train))\n",
    "    print ('Plot image of class', y_train[index])\n",
    "    fig = plt.figure(figsize=(20,20))\n",
    "    fig.add_subplot(1, 3, 1) \n",
    "    plt.imshow(data1[index].squeeze())\n",
    "    plt.title('Original Image')\n",
    "    fig.add_subplot(1, 3, 2) \n",
    "    plt.imshow(data2[index])\n",
    "    plt.title('normalization Image')\n",
    "    fig.add_subplot(1, 3, 3) \n",
    "    plt.title('grayscale Image')\n",
    "    plt.imshow(data3[index], cmap='gray')\n",
    "    plt.show()\n",
    "    #print ('org',data1[index][0][0])\n",
    "    #print ('norm',data2[index][0][0])\n",
    "    #print ('gray',data3[index][0][0])\n",
    "    \n",
    "plot_3_Datas(X_train_org, X_train_norm, X_train_gray, y_train)    "
   ]
  },
  {
   "cell_type": "markdown",
   "metadata": {},
   "source": [
    "### Q1. Describe how, and identify where in your code, you preprocessed the image data. What tecniques were chosen and why did you choose these techniques? Consider including images showing the output of each preprocessing technique. Pre-processing refers to techniques such as converting to grayscale, normalization, etc.\n",
    "\n",
    "### Answer:\n",
    "The codes above shows how the preprocess the image data.\n",
    "It also output the original image, normalization image and grayscale image.\n",
    "\n",
    "For the grayscale, I use cv2 to convert the image to gray.\n",
    "For the normalization, I normalized the image for [0:255] to [-1:1].\n",
    "\n",
    "I tried grayscale first as my train data but the accuracy is pretty low.\n",
    "Maybe the color will help the model to predict and we should keep it.\n",
    "\n",
    "And then I use normalized data to train my model and get very good accuracy.\n",
    "Which means equal variance and zero mean can really help to predict the image."
   ]
  },
  {
   "cell_type": "markdown",
   "metadata": {},
   "source": [
    "### Split Data into Training, Validation and Testing Sets"
   ]
  },
  {
   "cell_type": "code",
   "execution_count": 6,
   "metadata": {
    "collapsed": true
   },
   "outputs": [],
   "source": [
    "### Split the data into training/validation/testing sets here.\n",
    "### Feel free to use as many code cells as needed.\n",
    "#from sklearn.model_selection import train_test_split\n",
    "#X_train, X_validation, y_train, y_validation = train_test_split(X_train, y_train, test_size = 0.2, random_state = 0)"
   ]
  },
  {
   "cell_type": "markdown",
   "metadata": {},
   "source": [
    "### Q2. Describe how, and identify where in your code, you set up training, validation and testing data. How much data was in each set? Explain what techniques were used to split the data into these sets. (OPTIONAL: As described in the \"Stand Out Suggestions\" part of the rubric, if you generated additional data for training, describe why you decided to generate additional data, how you generated the data, identify where in your code, and provide example images of the additional data)\n",
    "\n",
    "### Answer:\n",
    "\n",
    "I used sklearn bulid-in function train_test_split to split 20% train data to validation data.\n",
    "And then I found out SDC just updated the dataset and prepare the valid data for us, so I comment the above code.\n",
    "\n",
    "Right now, there is 34799 set of images for train data, and 4410 set of images for validation set.\n",
    "And I shuffle the training data for my model."
   ]
  },
  {
   "cell_type": "markdown",
   "metadata": {},
   "source": [
    "### Model Architecture"
   ]
  },
  {
   "cell_type": "code",
   "execution_count": 7,
   "metadata": {
    "collapsed": true
   },
   "outputs": [],
   "source": [
    "### Define your architecture here.\n",
    "# Parameters\n",
    "mu = 0\n",
    "sigma = 0.1\n",
    "\n",
    "weights = {\n",
    "    'wc1': tf.Variable(tf.truncated_normal(shape=(5, 5, 3, 6), mean = mu, stddev = sigma)),\n",
    "    'wc2': tf.Variable(tf.truncated_normal(shape=(5, 5, 6, 16), mean = mu, stddev = sigma)),\n",
    "    'wd1': tf.Variable(tf.truncated_normal(shape=(400, 120), mean = mu, stddev = sigma)),\n",
    "    'wd2': tf.Variable(tf.truncated_normal(shape=(120, 84), mean = mu, stddev = sigma)),        \n",
    "    'out': tf.Variable(tf.truncated_normal(shape=(84, 43), mean = mu, stddev = sigma))}\n",
    "\n",
    "biases = {\n",
    "    'bc1': tf.Variable(tf.zeros(6)),\n",
    "    'bc2': tf.Variable(tf.zeros(16)),\n",
    "    'bd1': tf.Variable(tf.zeros(120)),\n",
    "    'bd2': tf.Variable(tf.zeros(84)),\n",
    "    'out': tf.Variable(tf.zeros(43))}\n",
    "\n",
    "def conv2d(x, W, b, strides=1):\n",
    "    x = tf.nn.conv2d(x, W, strides=[1, strides, strides, 1], padding='VALID')\n",
    "    x = tf.nn.bias_add(x, b)\n",
    "    return tf.nn.relu(x)\n",
    "\n",
    "def maxpool2d(x, k=2):\n",
    "    return tf.nn.max_pool(\n",
    "        x,\n",
    "        ksize=[1, k, k, 1],\n",
    "        strides=[1, k, k, 1],\n",
    "        padding='VALID')\n",
    "\n",
    "def LeNet(x, weights, biases, keep_prob):    \n",
    "    # Arguments used for tf.truncated_normal, randomly defines variables for the weights and biases for each layer  \n",
    "    # Layer 1: Convolutional. Input = 32x32x3. Output = 28x28x6.\n",
    "    # Activation.\n",
    "    conv1   = conv2d(x, weights['wc1'], biases['bc1'])   \n",
    "    # Pooling. Input = 28x28x6. Output = 14x14x6.\n",
    "    conv1 = maxpool2d(conv1, k=2)\n",
    "    # Layer 2: Convolutional. Output = 10x10x16.\n",
    "    # Activation.\n",
    "    conv2   = conv2d(conv1, weights['wc2'], biases['bc2'])\n",
    "    # Pooling. Input = 10x10x16. Output = 5x5x16.\n",
    "    conv2 = maxpool2d(conv2, k=2)\n",
    "    # Flatten. Input = 5x5x16. Output = 400.\n",
    "    fc0   = flatten(conv2)  \n",
    "    # Layer 3: Fully Connected. Input = 400. Output = 120.\n",
    "    fc1   = tf.add(tf.matmul(fc0, weights['wd1']), biases['bd1'])\n",
    "    # Activation.\n",
    "    fc1    = tf.nn.relu(fc1)\n",
    "    # Layer 4: Fully Connected. Input = 120. Output = 84.\n",
    "    fc2    = tf.add(tf.matmul(fc1, weights['wd2']), biases['bd2'])  \n",
    "    # Activation.\n",
    "    fc2    = tf.nn.relu(fc2)\n",
    "    # Dropout\n",
    "    fc2 = tf.nn.dropout(fc2, keep_prob)\n",
    "    # Layer 5: Fully Connected. Input = 84. Output = 43.\n",
    "    logits = tf.add(tf.matmul(fc2, weights['out']), biases['out'])\n",
    "    \n",
    "    return logits"
   ]
  },
  {
   "cell_type": "markdown",
   "metadata": {},
   "source": [
    "### Q3. Describe, and identify where in your code, what your final model architecture looks like including model type, layers, layer sizes, connectivity, etc.) Consider including a diagram and/or table describing the final model.\n",
    "\n",
    "### Answer:\n",
    "\n",
    "The code above shows how I build the model using LeNet module + dropout method. \n",
    "I used truncated_normal for the weights with zero mean and 0.1 sigma and zero biases.\n",
    "\n",
    "Here is how the LeNet model consisted of the following layers:\n",
    "\n",
    "| Layer         \t\t|     Description\t        \t\t\t\t\t| \n",
    "|:---------------------:|:---------------------------------------------:| \n",
    "| Input         \t\t| 32x32x3 RGB image   \t\t\t\t\t\t\t| \n",
    "| Convolution 5x5     \t| 1x1 stride, valid padding, outputs 28x28x6 \t|\n",
    "| RELU\t\t\t\t\t| Activation\t\t\t\t\t\t\t\t\t|\n",
    "| Max pooling\t      \t| 2x2 stride,  outputs 14x14x6  \t\t\t\t|\n",
    "| Convolution 5x5\t    | 1x1 stride, valid padding, outputs 10x10x16 \t|\n",
    "| RELU\t\t\t\t\t| Activation\t\t\t\t\t\t\t\t\t|\n",
    "| Max pooling\t      \t| 2x2 stride,  outputs 5x5x16  \t\t\t\t\t|\n",
    "| Flatten\t        \t| Reshape, outputs 400    \t\t\t\t\t\t|\n",
    "| Fully connected\t\t| outputs 120        \t\t\t\t\t\t\t|\n",
    "| RELU\t\t\t\t\t| Activation\t\t\t\t\t\t\t\t\t|\n",
    "| Fully connected\t\t| outputs 84        \t\t\t\t\t\t\t|\n",
    "| RELU\t\t\t\t\t| Activation\t\t\t\t\t\t\t\t\t|\n",
    "| Dropout\t\t\t\t| Probabilities 50% for dropout\t\t\t\t\t|\n",
    "| Output\t\t        | outputs 43        \t\t\t\t\t\t\t|\n",
    "| Softmax\t\t\t\t| softmax the output\t\t\t\t\t\t\t|"
   ]
  },
  {
   "cell_type": "markdown",
   "metadata": {},
   "source": [
    "### Train, Validate and Test the Model"
   ]
  },
  {
   "cell_type": "markdown",
   "metadata": {},
   "source": [
    "A validation set can be used to assess how well the model is performing. A low accuracy on the training and validation\n",
    "sets imply underfitting. A high accuracy on the test set but low accuracy on the validation set implies overfitting."
   ]
  },
  {
   "cell_type": "code",
   "execution_count": 8,
   "metadata": {
    "collapsed": false
   },
   "outputs": [],
   "source": [
    "# Parameters\n",
    "EPOCHS = 10\n",
    "BATCH_SIZE = 128\n",
    "dropout = 0.5\n",
    "\n",
    "# tf Graph input\n",
    "x = tf.placeholder(tf.float32, (None, 32, 32, 3))\n",
    "y = tf.placeholder(tf.int32, (None))\n",
    "keep_prob = tf.placeholder(tf.float32) \n",
    "one_hot_y = tf.one_hot(y, 43) \n",
    "\n",
    "#Training Pipeline\n",
    "rate = 0.001\n",
    "\n",
    "# Model\n",
    "logits = LeNet(x, weights, biases, keep_prob)\n",
    "\n",
    "# Define loss and optimizer\n",
    "cross_entropy = tf.nn.softmax_cross_entropy_with_logits(logits, one_hot_y)\n",
    "loss_operation = tf.reduce_mean(cross_entropy)\n",
    "optimizer = tf.train.AdamOptimizer(learning_rate = rate)\n",
    "training_operation = optimizer.minimize(loss_operation)\n",
    "\n",
    "# Accuracy\n",
    "correct_prediction = tf.equal(tf.argmax(logits, 1), tf.argmax(one_hot_y, 1))\n",
    "accuracy_operation = tf.reduce_mean(tf.cast(correct_prediction, tf.float32))\n",
    "\n",
    "# Class used to save and/or restore Tensor Variables\n",
    "saver = tf.train.Saver()\n",
    "\n",
    "# Model Evaluation\n",
    "def evaluate(X_data, y_data):\n",
    "    num_examples = len(X_data)\n",
    "    total_accuracy = 0\n",
    "    sess = tf.get_default_session()\n",
    "    for offset in range(0, num_examples, BATCH_SIZE):\n",
    "        batch_x, batch_y = X_data[offset:offset+BATCH_SIZE], y_data[offset:offset+BATCH_SIZE]\n",
    "        accuracy = sess.run(accuracy_operation, feed_dict={x: batch_x, y: batch_y, keep_prob: 1.0 })\n",
    "        total_accuracy += (accuracy * len(batch_x))\n",
    "    return total_accuracy / num_examples  \n",
    "### Calculate and report the accuracy on the training and validation set.\n",
    "### Once a final model architecture is selected, \n",
    "### the accuracy on the test set should be calculated and reported as well."
   ]
  },
  {
   "cell_type": "markdown",
   "metadata": {},
   "source": [
    "### Q4. Describe how, and identify where in your code, you trained your model. The discussion can include the type of optimizer, the batch size, number of epochs and any hyperparameters such as learning rate.\n",
    "\n",
    "### Answer:\n",
    "Above code shows how the parameter for train model and evaluate model.\n",
    "I used AdamOptimizer with 0.001 learning rate which is small and take some times but it can also make sure the min won't be missed.\n",
    "And I chose batch size is 128 and epochs number is 10. I had tried to enlarge epochs to 50, 100 but looks like the accuracy is high in train set and valid set but low in test set which called overfitting.\n",
    "I want to avoid it so I think 10 epochs is fine."
   ]
  },
  {
   "cell_type": "markdown",
   "metadata": {},
   "source": [
    "#### Train the Model"
   ]
  },
  {
   "cell_type": "code",
   "execution_count": 18,
   "metadata": {
    "collapsed": false
   },
   "outputs": [
    {
     "name": "stdout",
     "output_type": "stream",
     "text": [
      "Training...\n",
      "\n",
      "EPOCH 1 ...\n",
      "Training Accuracy = 0.739\n",
      "Validation Accuracy = 0.669\n",
      "\n",
      "EPOCH 2 ...\n",
      "Training Accuracy = 0.912\n",
      "Validation Accuracy = 0.845\n",
      "\n",
      "EPOCH 3 ...\n",
      "Training Accuracy = 0.937\n",
      "Validation Accuracy = 0.860\n",
      "\n",
      "EPOCH 4 ...\n",
      "Training Accuracy = 0.971\n",
      "Validation Accuracy = 0.908\n",
      "\n",
      "EPOCH 5 ...\n",
      "Training Accuracy = 0.978\n",
      "Validation Accuracy = 0.918\n",
      "\n",
      "EPOCH 6 ...\n",
      "Training Accuracy = 0.984\n",
      "Validation Accuracy = 0.926\n",
      "\n",
      "EPOCH 7 ...\n",
      "Training Accuracy = 0.988\n",
      "Validation Accuracy = 0.931\n",
      "\n",
      "EPOCH 8 ...\n",
      "Training Accuracy = 0.990\n",
      "Validation Accuracy = 0.933\n",
      "\n",
      "EPOCH 9 ...\n",
      "Training Accuracy = 0.992\n",
      "Validation Accuracy = 0.935\n",
      "\n",
      "EPOCH 10 ...\n",
      "Training Accuracy = 0.994\n",
      "Validation Accuracy = 0.934\n",
      "\n",
      "Model saved\n"
     ]
    }
   ],
   "source": [
    "### Train model here.\n",
    "with tf.Session() as sess:\n",
    "    sess.run(tf.global_variables_initializer())\n",
    "    num_examples = len(X_train)\n",
    "    \n",
    "    print(\"Training...\")\n",
    "    print()\n",
    "    for i in range(EPOCHS):\n",
    "        X_train, y_train = shuffle(X_train, y_train)\n",
    "        for offset in range(0, num_examples, BATCH_SIZE):\n",
    "            end = offset + BATCH_SIZE\n",
    "            batch_x, batch_y = X_train[offset:end], y_train[offset:end]\n",
    "            sess.run(training_operation, feed_dict={x: batch_x, y: batch_y, keep_prob: dropout})\n",
    "        training_accuracy = evaluate(X_train, y_train)    \n",
    "        validation_accuracy = evaluate(X_valid, y_valid)\n",
    "        print(\"EPOCH {} ...\".format(i+1))\n",
    "        print(\"Training Accuracy = {:.3f}\".format(training_accuracy))\n",
    "        print(\"Validation Accuracy = {:.3f}\".format(validation_accuracy))\n",
    "        print()\n",
    "        \n",
    "    saver.save(sess, './lenet')\n",
    "    print(\"Model saved\")"
   ]
  },
  {
   "cell_type": "markdown",
   "metadata": {},
   "source": [
    "#### Test the Model"
   ]
  },
  {
   "cell_type": "code",
   "execution_count": 19,
   "metadata": {
    "collapsed": false
   },
   "outputs": [
    {
     "name": "stdout",
     "output_type": "stream",
     "text": [
      "Test Accuracy = 0.928\n"
     ]
    }
   ],
   "source": [
    "with tf.Session() as sess:\n",
    "    saver.restore(sess, tf.train.latest_checkpoint('.'))\n",
    "\n",
    "    test_accuracy = evaluate(X_test, y_test)\n",
    "    print(\"Test Accuracy = {:.3f}\".format(test_accuracy))"
   ]
  },
  {
   "cell_type": "markdown",
   "metadata": {},
   "source": [
    "### Q5. Describe the approach taken for finding a solution. Include in the discussion the results on the training, validation and test sets and where in the code these were calculated. Your approach may have been an iterative process, in which case, outline the steps you took to get to the final solution and why you chose those steps. Perhaps your solution involved an already well known implementation or architecture. In this case, discuss why you think the architecture is suitable for the current problem.\n",
    "\n",
    "### Answer:\n",
    "\n",
    "See above code for calculating the accuracy for training, validation and test sets.\n",
    "\n",
    "My final model results were:\n",
    "* training set accuracy of 0.994\n",
    "* validation set accuracy of 0.934 \n",
    "* test set accuracy of 0.928\n",
    "\n",
    "I chose the LeNet model as my start point because it works well on the quiz to predict the image (CarND-LeNet-Lab).\n",
    "If it doesn't works well I can try added more hidden layers or different architecture.\n",
    "Luckily, it works like amazing well, I got 0.86 accuracy on the first try.\n",
    "\n",
    "To improve the accuracy, I had tried to tuned the parameter like batch size, numbers of the epochs, mean and sigma of weights, added extra hidden layer like convolution layer or fully connected layer but doesn't goes well.\n",
    "And then I take a look back the deep learning lecture, the lecture mention dropout will surprisingly working well and it really did!\n",
    "I use 0.5 dropout rate to train my model and 1.0 for valid and test dataset. It helps me to improve my accuracy over 0.9.\n",
    "If next time drop can't help me to improve the accuracy, I will try to use Inception Module.\n",
    "\n",
    "For now, the accuracy in training, validation and test dataset is over 0.9 which means it had 90% chance to predict the image correct. We will use some new images in the next phase to verify my model."
   ]
  },
  {
   "cell_type": "markdown",
   "metadata": {},
   "source": [
    "---\n",
    "\n",
    "## Step 3: Test a Model on New Images\n",
    "\n",
    "To give yourself more insight into how your model is working, download at least five pictures of German traffic signs from the web and use your model to predict the traffic sign type.\n",
    "\n",
    "You may find `signnames.csv` useful as it contains mappings from the class id (integer) to the actual sign name."
   ]
  },
  {
   "cell_type": "markdown",
   "metadata": {},
   "source": [
    "### Load and Output the Images"
   ]
  },
  {
   "cell_type": "code",
   "execution_count": 20,
   "metadata": {
    "collapsed": false,
    "scrolled": true
   },
   "outputs": [
    {
     "data": {
      "image/png": "[encoded data removed]",
      "text/plain": [
       "<matplotlib.figure.Figure at 0xcbde0f0>"
      ]
     },
     "metadata": {},
     "output_type": "display_data"
    }
   ],
   "source": [
    "### Load the images and plot them here.\n",
    "\n",
    "### Load image and resize to 32x32\n",
    "def load_image(dir):\n",
    "    return np.array([cv2.resize(mpimg.imread(dir + image), (32, 32)) for image in os.listdir(dir)])\n",
    "### Plot image and label    \n",
    "def plot_image(x,y):\n",
    "    fig = plt.figure(figsize=(25,25))\n",
    "    for idx, image in enumerate(x):\n",
    "        fig.add_subplot(1, len(x), idx+1)\n",
    "        plt.title(y[idx])\n",
    "        plt.imshow(image) \n",
    "        \n",
    "new_dataset = load_image(\"my_images/\")\n",
    "new_labels = np.array([4, 18, 22, 28, 29, 31, 33, 37, 39, 42])\n",
    "#print (new_dataset.shape,X_test.shape)\n",
    "plot_image(new_dataset, new_labels)\n",
    "#preprocess data for new images\n",
    "new_dataset = norm_data(new_dataset)\n",
    "new_dataset, new_labels = shuffle(new_dataset, new_labels)"
   ]
  },
  {
   "cell_type": "markdown",
   "metadata": {},
   "source": [
    "### Q1. Choose five German traffic signs found on the web and provide them in the report. For each image, discuss what quality or qualities might be difficult to classify.\n",
    "\n",
    "### Answer:\n",
    "See above for the 10 German traffic signs that I found.\n",
    "\n",
    "The channel for the images is also 3.That is great! Because I don't have to change the channel to meet my model input requirement.\n",
    "However, the shape is different than the previous data we used. \n",
    "We have to change it to 32x32. I used resize function in cv2 to change all the images to 32x32 in order to fit my model input. Since the size of the images had changed, it might be difficult for the model to classify."
   ]
  },
  {
   "cell_type": "markdown",
   "metadata": {},
   "source": [
    "### Predict the Sign Type for Each Image"
   ]
  },
  {
   "cell_type": "code",
   "execution_count": 21,
   "metadata": {
    "collapsed": false
   },
   "outputs": [
    {
     "name": "stdout",
     "output_type": "stream",
     "text": [
      "New Images Accuracy = 0.900\n"
     ]
    }
   ],
   "source": [
    "### Run the predictions here and use the model to output the prediction for each image.\n",
    "### Make sure to pre-process the images with the same pre-processing pipeline used earlier.\n",
    "\n",
    "### Top 5 Softmax Probabilities \n",
    "top5 = tf.nn.top_k(tf.nn.softmax(logits), k=5, sorted=True, name=None)\n",
    "with tf.Session() as sess:\n",
    "    saver.restore(sess, tf.train.latest_checkpoint('.'))\n",
    "    top5_pred = sess.run(top5, feed_dict={x: new_dataset, keep_prob: 1.0})\n",
    "    top5_prob = top5_pred[0]\n",
    "    top5_indices = top5_pred[1]\n",
    "    \n",
    "    test_accuracy = evaluate(new_dataset, new_labels)\n",
    "    print(\"New Images Accuracy = {:.3f}\".format(test_accuracy))\n",
    "#print (top5_prob)\n",
    "#print (top5_indices)"
   ]
  },
  {
   "cell_type": "markdown",
   "metadata": {},
   "source": [
    "### Analyze Performance"
   ]
  },
  {
   "cell_type": "code",
   "execution_count": 22,
   "metadata": {
    "collapsed": false
   },
   "outputs": [
    {
     "name": "stdout",
     "output_type": "stream",
     "text": [
      "New image class =  28 , and the model predict class =  23\n",
      "Failed on predict the traffic sign...\n",
      "\n",
      "New image class =  39 , and the model predict class =  39\n",
      "Success predict the traffic sign!!!\n",
      "\n",
      "New image class =  18 , and the model predict class =  18\n",
      "Success predict the traffic sign!!!\n",
      "\n",
      "New image class =  42 , and the model predict class =  42\n",
      "Success predict the traffic sign!!!\n",
      "\n",
      "New image class =  22 , and the model predict class =  22\n",
      "Success predict the traffic sign!!!\n",
      "\n",
      "New image class =  29 , and the model predict class =  29\n",
      "Success predict the traffic sign!!!\n",
      "\n",
      "New image class =  31 , and the model predict class =  31\n",
      "Success predict the traffic sign!!!\n",
      "\n",
      "New image class =  37 , and the model predict class =  37\n",
      "Success predict the traffic sign!!!\n",
      "\n",
      "New image class =  33 , and the model predict class =  33\n",
      "Success predict the traffic sign!!!\n",
      "\n",
      "New image class =  4 , and the model predict class =  4\n",
      "Success predict the traffic sign!!!\n",
      "\n",
      "\n",
      "Total Accuracy of New Images =  0.9\n"
     ]
    }
   ],
   "source": [
    "### Calculate the accuracy for these 5 new images. \n",
    "### For example, if the model predicted 1 out of 5 signs correctly, it's 20% accurate on these new images.\n",
    "cnt = 0\n",
    "for idx in range(len(new_labels)):\n",
    "    print ('New image class = ',new_labels[idx], ', and the model predict class = ', top5_indices[idx][0])\n",
    "    if new_labels[idx] == top5_indices[idx][0]:\n",
    "        print ('Success predict the traffic sign!!!')\n",
    "        cnt += 1\n",
    "    else:\n",
    "        print ('Failed on predict the traffic sign...')\n",
    "    print ()\n",
    "print ()    \n",
    "print ('Total Accuracy of New Images = ', cnt/len(top5_prob))    "
   ]
  },
  {
   "cell_type": "markdown",
   "metadata": {},
   "source": [
    "### Q2. Discuss the model's predictions on these new traffic signs and compare the results to predicting on the test set. Identify where in your code predictions were made. At a minimum, discuss what the predictions were, the accuracy on these new predictions, and compare the accuracy to the accuracy on the test set (OPTIONAL: Discuss the results in more detail as described in the \"Stand Out Suggestions\" part of the rubric).\n",
    "\n",
    "### Answer:\n",
    "\n",
    "The code for making predictions of new images is above.\n",
    "\n",
    "Here are the results of the prediction:\n",
    "\n",
    "| Image\t\t\t                                        |     Prediction\t        \t\t\t        \t\t| \n",
    "|:-----------------------------------------------------:|:-----------------------------------------------------:| \n",
    "| Speed limit (70km/h)      \t\t\t  \t\t\t \t| Speed limit (70km/h)     \t\t\t\t\t\t\t\t| \n",
    "| General caution     \t\t\t\t  \t\t\t  \t\t| General caution \t\t\t\t\t\t\t\t\t\t|\n",
    "| Bumpy road\t\t\t\t  \t\t\t  \t\t\t\t| Bumpy road\t\t\t\t\t\t\t\t\t\t\t|\n",
    "| Children crossing    \t\t  \t\t\t  \t    \t\t| Slippery road\t\t\t\t \t\t\t            \t|\n",
    "| Bicycles crossing\t\t\t\t  \t\t\t  \t\t\t| Bicycles crossing\t      \t\t\t\t\t\t    \t|\n",
    "| Wild animals crossing     \t\t  \t\t\t  \t\t| Wild animals crossing    \t\t\t\t\t\t\t\t| \n",
    "| Turn right ahead     \t\t  \t\t\t  \t\t\t\t| Turn right ahead \t\t\t\t\t\t\t\t\t\t|\n",
    "| Go straight or left\t\t\t  \t\t                | Go straight or left\t\t\t\t\t\t\t\t\t|\n",
    "| Keep left\t      \t\t                                | Keep left\t\t\t    \t\t \t\t\t\t        |\n",
    "| End of no passing by vehicles over 3.5 metric tons\t| End of no passing by vehicles over 3.5 metric tons\t|\n",
    "\n",
    "The model had success to predict 9 of 10 new images, which gives an accuracy of 90%. It's pretty close to the accuracy of test data set 92.8%.\n"
   ]
  },
  {
   "cell_type": "markdown",
   "metadata": {},
   "source": [
    "### Output Top 5 Softmax Probabilities For Each Image Found on the Web"
   ]
  },
  {
   "cell_type": "markdown",
   "metadata": {},
   "source": [
    "For each of the new images, print out the model's softmax probabilities to show the **certainty** of the model's predictions (limit the output to the top 5 probabilities for each image). [`tf.nn.top_k`](https://www.tensorflow.org/versions/r0.12/api_docs/python/nn.html#top_k) could prove helpful here. \n",
    "\n",
    "The example below demonstrates how tf.nn.top_k can be used to find the top k predictions for each image.\n",
    "\n",
    "`tf.nn.top_k` will return the values and indices (class ids) of the top k predictions. So if k=3, for each sign, it'll return the 3 largest probabilities (out of a possible 43) and the correspoding class ids.\n",
    "\n",
    "Take this numpy array as an example. The values in the array represent predictions. The array contains softmax probabilities for five candidate images with six possible classes. `tk.nn.top_k` is used to choose the three classes with the highest probability:\n",
    "\n",
    "```\n",
    "# (5, 6) array\n",
    "a = np.array([[ 0.24879643,  0.07032244,  0.12641572,  0.34763842,  0.07893497,\n",
    "         0.12789202],\n",
    "       [ 0.28086119,  0.27569815,  0.08594638,  0.0178669 ,  0.18063401,\n",
    "         0.15899337],\n",
    "       [ 0.26076848,  0.23664738,  0.08020603,  0.07001922,  0.1134371 ,\n",
    "         0.23892179],\n",
    "       [ 0.11943333,  0.29198961,  0.02605103,  0.26234032,  0.1351348 ,\n",
    "         0.16505091],\n",
    "       [ 0.09561176,  0.34396535,  0.0643941 ,  0.16240774,  0.24206137,\n",
    "         0.09155967]])\n",
    "```\n",
    "\n",
    "Running it through `sess.run(tf.nn.top_k(tf.constant(a), k=3))` produces:\n",
    "\n",
    "```\n",
    "TopKV2(values=array([[ 0.34763842,  0.24879643,  0.12789202],\n",
    "       [ 0.28086119,  0.27569815,  0.18063401],\n",
    "       [ 0.26076848,  0.23892179,  0.23664738],\n",
    "       [ 0.29198961,  0.26234032,  0.16505091],\n",
    "       [ 0.34396535,  0.24206137,  0.16240774]]), indices=array([[3, 0, 5],\n",
    "       [0, 1, 4],\n",
    "       [0, 5, 1],\n",
    "       [1, 3, 5],\n",
    "       [1, 4, 3]], dtype=int32))\n",
    "```\n",
    "\n",
    "Looking just at the first row we get `[ 0.34763842,  0.24879643,  0.12789202]`, you can confirm these are the 3 largest probabilities in `a`. You'll also notice `[3, 0, 5]` are the corresponding indices."
   ]
  },
  {
   "cell_type": "code",
   "execution_count": 23,
   "metadata": {
    "collapsed": false
   },
   "outputs": [
    {
     "name": "stdout",
     "output_type": "stream",
     "text": [
      "New images: 28\n",
      "Top five indices class =  [23 29 20  3 25]\n",
      "Top five Softmax Probabilities  =  [ 0.64036554  0.20762357  0.06006555  0.01764729  0.01290865]\n",
      "\n",
      "New images: 39\n",
      "Top five indices class =  [39 37 40 33  4]\n",
      "Top five Softmax Probabilities  =  [  9.82249379e-01   7.18331616e-03   6.76303450e-03   3.42683261e-03\n",
      "   2.92044831e-04]\n",
      "\n",
      "New images: 18\n",
      "Top five indices class =  [18 26 27 11 24]\n",
      "Top five Softmax Probabilities  =  [  9.98783767e-01   1.11815007e-03   8.20189816e-05   1.44036840e-05\n",
      "   1.12947339e-06]\n",
      "\n",
      "New images: 42\n",
      "Top five indices class =  [42  6 41 12 10]\n",
      "Top five Softmax Probabilities  =  [  9.64434087e-01   2.99351346e-02   1.57141616e-03   1.56420795e-03\n",
      "   9.58980178e-04]\n",
      "\n",
      "New images: 22\n",
      "Top five indices class =  [22 25 29 31 26]\n",
      "Top five Softmax Probabilities  =  [  9.95748580e-01   3.59557569e-03   6.55545795e-04   2.48882259e-07\n",
      "   2.27901236e-08]\n",
      "\n",
      "New images: 29\n",
      "Top five indices class =  [29 28 23 30 24]\n",
      "Top five Softmax Probabilities  =  [  8.83336544e-01   1.03272848e-01   1.10837594e-02   9.15874261e-04\n",
      "   7.66183948e-04]\n",
      "\n",
      "New images: 31\n",
      "Top five indices class =  [31 25 29 21 24]\n",
      "Top five Softmax Probabilities  =  [  9.99678016e-01   3.04357120e-04   8.93012384e-06   6.82115524e-06\n",
      "   8.96544805e-07]\n",
      "\n",
      "New images: 37\n",
      "Top five indices class =  [37 40 18 39 26]\n",
      "Top five Softmax Probabilities  =  [  9.87814426e-01   1.06474059e-02   7.73233944e-04   3.94456118e-04\n",
      "   2.10303668e-04]\n",
      "\n",
      "New images: 33\n",
      "Top five indices class =  [33 40 11 34 30]\n",
      "Top five Softmax Probabilities  =  [  1.00000000e+00   2.62382134e-08   7.92405874e-09   1.68516445e-09\n",
      "   6.61066904e-12]\n",
      "\n",
      "New images: 4\n",
      "Top five indices class =  [4 1 0 5 2]\n",
      "Top five Softmax Probabilities  =  [  9.78337586e-01   2.14930587e-02   1.56040129e-04   1.01310179e-05\n",
      "   1.27436670e-06]\n",
      "\n"
     ]
    }
   ],
   "source": [
    "### Print out the top five softmax probabilities for the predictions on the German traffic sign images found on the web. \n",
    "### Feel free to use as many code cells as needed.\n",
    "for idx in range(len(top5_prob)):\n",
    "    print ('New images:', new_labels[idx])\n",
    "    print ('Top five indices class = ', top5_indices[idx])\n",
    "    print ('Top five Softmax Probabilities  = ', top5_prob[idx])   \n",
    "    print ()    \n"
   ]
  },
  {
   "cell_type": "markdown",
   "metadata": {},
   "source": [
    "### Q3. Describe how certain the model is when predicting on each of the five new images by looking at the softmax probabilities for each prediction and identify where in your code softmax probabilities were outputted. Provide the top 5 softmax probabilities for each image along with the sign type of each probability. (OPTIONAL: as described in the \"Stand Out Suggestions\" part of the rubric, visualizations can also be provided such as bar charts)\n",
    "\n",
    "### Answer:\n",
    "The code for output the top 5 softmax probabilities see above.\n",
    "\n",
    "The module had success recognize most of new images except one.\n",
    "Let's take look the result from top 5 softmax.\n",
    "For the correct prediction result, the top 1 softmax probabilities is 0.88~1.0 which means the model is pretty sure the result is correct.\n",
    "\n",
    "How about the false result image?\n",
    "First, Let's take a look the top 5 softmax probabilities for the failed image: \"Children crossing.\"\n",
    "\n",
    "| Probability         \t|     Prediction\t        \t\t\t\t\t| \n",
    "|:---------------------:|:---------------------------------------------:| \n",
    "| .64         \t\t\t| Slippery road   \t\t\t\t\t\t\t\t| \n",
    "| .20     \t\t\t\t| Bicycles crossing\t\t\t\t\t\t\t\t|\n",
    "| .06\t\t\t\t\t| Dangerous curve to the right\t\t\t\t\t|\n",
    "| .01\t      \t\t\t| Speed limit (60km/h)\t\t\t\t\t \t\t|\n",
    "| .01\t\t\t\t    | Road work      \t\t\t\t\t\t    \t|\n",
    "From the result, we can find out 2 things.\n",
    "First, the top 1 probability only 0.64 instead of 0.88~1.0 which means the model is not so sure about the result.\n",
    "Second, we can't find Children crossing result on the top 5 probabilities.\n",
    "What's more, some result had nothing related with Children crossing.\n",
    "Above the result, I think the model had some difficulty on recognize on Children crossing."
   ]
  },
  {
   "cell_type": "markdown",
   "metadata": {},
   "source": [
    "> **Note**: Once you have completed all of the code implementations, you need to finalize your work by exporting the IPython Notebook as an HTML document. Before exporting the notebook to html, all of the code cells need to have been run. You can then export the notebook by using the menu above and navigating to  \\n\",\n",
    "    \"**File -> Download as -> HTML (.html)**. Include the finished document along with this notebook as your submission. "
   ]
  },
  {
   "cell_type": "markdown",
   "metadata": {},
   "source": [
    "### Project Writeup\n",
    "\n",
    "Once you have completed the code implementation, document your results in a project writeup using this [template](https://github.com/udacity/CarND-Traffic-Sign-Classifier-Project/blob/master/writeup_template.md) as a guide. The writeup can be in a markdown or pdf file. "
   ]
  }
 ],
 "metadata": {
  "anaconda-cloud": {},
  "kernelspec": {
   "display_name": "Python 3",
   "language": "python",
   "name": "python3"
  },
  "language_info": {
   "codemirror_mode": {
    "name": "ipython",
    "version": 3
   },
   "file_extension": ".py",
   "mimetype": "text/x-python",
   "name": "python",
   "nbconvert_exporter": "python",
   "pygments_lexer": "ipython3",
   "version": "3.5.2"
  },
  "widgets": {
   "state": {},
   "version": "1.1.2"
  }
 },
 "nbformat": 4,
 "nbformat_minor": 1
}
